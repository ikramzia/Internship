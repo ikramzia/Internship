{
 "cells": [
  {
   "cell_type": "markdown",
   "id": "5173399e",
   "metadata": {},
   "source": [
    "Regular Expression Practice Questions"
   ]
  },
  {
   "cell_type": "markdown",
   "id": "d138ea4b",
   "metadata": {},
   "source": [
    "Question 1- Write a RegEx pattern in python program to check that a string contains only a certain set of characters (in this case a-z, A-Z and 0-9)."
   ]
  },
  {
   "cell_type": "code",
   "execution_count": 3,
   "id": "6ca28eb1",
   "metadata": {},
   "outputs": [
    {
     "name": "stdout",
     "output_type": "stream",
     "text": [
      "Enter any string: *&%@#!}{\n",
      "\n",
      "\"*&%@#!}{\" does not contain set of characters a-z, A-Z and 0-9\n"
     ]
    }
   ],
   "source": [
    "import re\n",
    "\n",
    "def is_allowed_specific_char(string):\n",
    "    \n",
    "    charRe = re.compile(r'[a-zA-Z0-9]') #using compile\n",
    "    \n",
    "    string = charRe.search(string)\n",
    "    \n",
    "    return bool(string)\n",
    "\n",
    "\n",
    "str1 = input('Enter any string: ')\n",
    "\n",
    "if is_allowed_specific_char(str1):\n",
    "    \n",
    "    print('\\n\"%s\" contains set of characters a-z, A-Z and 0-9'%str1)\n",
    "    \n",
    "else:\n",
    "    \n",
    "    print('\\n\"%s\" does not contain set of characters a-z, A-Z and 0-9'%str1)"
   ]
  },
  {
   "cell_type": "code",
   "execution_count": 18,
   "id": "376b547f",
   "metadata": {},
   "outputs": [
    {
     "name": "stdout",
     "output_type": "stream",
     "text": [
      "Enter any string: ABCDEFabcdef123450\n",
      "\n",
      "\"ABCDEFabcdef123450\" contains characters from a-z, A-Z and 0-9\n"
     ]
    }
   ],
   "source": [
    "import re\n",
    "\n",
    "if __name__ == '__main__':\n",
    "    \n",
    "    string = input('Enter any string: ')\n",
    "    \n",
    "    pattern = re.compile(\"[A-Za-z0-9]+\")\n",
    "\n",
    "    # if found match (entire string matches pattern)\n",
    "    if pattern.fullmatch(string) is not None:\n",
    "        \n",
    "        print('\\n\"%s\" contains characters from a-z, A-Z and 0-9'%string)\n",
    "        \n",
    "    else:\n",
    "        \n",
    "        # if not found match\n",
    "        print('\\n\"%s\" does not contain characters from a-z, A-Z and 0-9'%string)"
   ]
  },
  {
   "cell_type": "code",
   "execution_count": null,
   "id": "8d91e5a9",
   "metadata": {},
   "outputs": [],
   "source": []
  },
  {
   "cell_type": "markdown",
   "id": "9d52aed3",
   "metadata": {},
   "source": [
    "Question 2- Write a RegEx pattern that matches a string that has an a followed by zero or more b's"
   ]
  },
  {
   "cell_type": "code",
   "execution_count": 19,
   "id": "a6ee5ea0",
   "metadata": {},
   "outputs": [
    {
     "name": "stdout",
     "output_type": "stream",
     "text": [
      "Enter a string that has an \"a\" followed by 0 or more \"b\"ab\n",
      "\n",
      "\"ab\" has an \"a\" followed by 0 or more \"b\"\n"
     ]
    }
   ],
   "source": [
    "import re\n",
    "\n",
    "def text_match(text):\n",
    "    \n",
    "        patterns = 'a(b*)$'\n",
    "        \n",
    "        if re.search(patterns,  text):\n",
    "            \n",
    "                return '\\n\"%s\" has an \"a\" followed by 0 or more \"b\"'%text\n",
    "            \n",
    "        else:\n",
    "            \n",
    "                return '\\n\"%s\" does not have an \"a\" followed by 0 or more \"b\"'%text\n",
    "            \n",
    "str2 = input('Enter a string that has an \"a\" followed by 0 or more \"b\"')\n",
    "\n",
    "\n",
    "print(text_match(str2))"
   ]
  },
  {
   "cell_type": "code",
   "execution_count": null,
   "id": "9a84112c",
   "metadata": {},
   "outputs": [],
   "source": []
  },
  {
   "cell_type": "markdown",
   "id": "176e2557",
   "metadata": {},
   "source": [
    "Question 3-  Write a RegEx pattern that matches a string that has an a followed by one or more b's"
   ]
  },
  {
   "cell_type": "code",
   "execution_count": 16,
   "id": "6789ef9c",
   "metadata": {},
   "outputs": [
    {
     "name": "stdout",
     "output_type": "stream",
     "text": [
      "Enter a string that has an \"a\" followed by 1 or more \"b\"ab\n",
      "\n",
      "\"ab\" has an \"a\" followed by 1 or more \"b\"\n"
     ]
    }
   ],
   "source": [
    "import re\n",
    "\n",
    "def text_match(text):\n",
    "    \n",
    "        patterns = 'ab+?'\n",
    "        \n",
    "        if re.search(patterns,  text):\n",
    "            \n",
    "                return '\\n\"%s\" has an \"a\" followed by 1 or more \"b\"'%text\n",
    "            \n",
    "        else:\n",
    "            \n",
    "                return '\\n\"%s\" does not have an \"a\" followed by 1 or more \"b\"'%text\n",
    "            \n",
    "str3 = input('Enter a string that has an \"a\" followed by 1 or more \"b\"')\n",
    "\n",
    "\n",
    "print(text_match(str3))"
   ]
  },
  {
   "cell_type": "code",
   "execution_count": null,
   "id": "1488a4a7",
   "metadata": {},
   "outputs": [],
   "source": []
  },
  {
   "cell_type": "markdown",
   "id": "8bacce2f",
   "metadata": {},
   "source": [
    "Question 4- Write a RegEx pattern that matches a string that has an a followed by zero or one 'b'."
   ]
  },
  {
   "cell_type": "code",
   "execution_count": 4,
   "id": "c6730fad",
   "metadata": {},
   "outputs": [
    {
     "name": "stdout",
     "output_type": "stream",
     "text": [
      "Enter a string that has an \"a\" followed by 1 or more \"b\"abbb\n",
      "\n",
      "\"abbb\" has an \"a\" followed by 1 or more \"b\"\n"
     ]
    }
   ],
   "source": [
    "import re\n",
    "\n",
    "def text_match(text):\n",
    "    \n",
    "        patterns = 'ab?'\n",
    "        \n",
    "        if re.search(patterns,  text):\n",
    "            \n",
    "                return '\\n\"%s\" has an \"a\" followed by 0 or 1 \"b\"'%text\n",
    "            \n",
    "        else:\n",
    "            \n",
    "                return '\\n\"%s\" does not have an \"a\" followed by 0 or 1 \"b\"'%text\n",
    "            \n",
    "str4 = input('Enter a string that has an \"a\" followed by 0 or 1 \"b\"')\n",
    "\n",
    "\n",
    "print(text_match(str4))"
   ]
  },
  {
   "cell_type": "code",
   "execution_count": null,
   "id": "a7bc6f88",
   "metadata": {},
   "outputs": [],
   "source": []
  },
  {
   "cell_type": "markdown",
   "id": "d8dd014b",
   "metadata": {},
   "source": [
    "Question 5- Write a RegEx pattern in python program that matches a string that has an a followed by three 'b'."
   ]
  },
  {
   "cell_type": "code",
   "execution_count": 7,
   "id": "9a47b724",
   "metadata": {},
   "outputs": [
    {
     "name": "stdout",
     "output_type": "stream",
     "text": [
      "Enter a string that has an \"a\" followed by 3 \"b\"bbb\n",
      "\n",
      "\"bbb\" does not have an \"a\" followed by 3 \"b\"\n"
     ]
    }
   ],
   "source": [
    "import re\n",
    "\n",
    "def text_match(text):\n",
    "    \n",
    "        patterns = 'ab{3}?'\n",
    "        \n",
    "        if re.search(patterns,  text):\n",
    "            \n",
    "                return '\\n\"%s\" has an \"a\" followed by 3 \"b\"'%text\n",
    "            \n",
    "        else:\n",
    "            \n",
    "                return '\\n\"%s\" does not have an \"a\" followed by 3 \"b\"'%text\n",
    "            \n",
    "str5 = input('Enter a string that has an \"a\" followed by 3 \"b\"')\n",
    "\n",
    "\n",
    "print(text_match(str5))"
   ]
  },
  {
   "cell_type": "code",
   "execution_count": null,
   "id": "14b3fa30",
   "metadata": {},
   "outputs": [],
   "source": []
  },
  {
   "cell_type": "markdown",
   "id": "919f42ad",
   "metadata": {},
   "source": [
    "Question 6- Write a RegEx pattern in python program that matches a string that has an a followed by two to three 'b'."
   ]
  },
  {
   "cell_type": "code",
   "execution_count": 9,
   "id": "b991edf7",
   "metadata": {},
   "outputs": [
    {
     "name": "stdout",
     "output_type": "stream",
     "text": [
      "Enter a string that has an \"a\" followed by 2 or 3 \"b\"abb\n",
      "\n",
      "\"abb\" does not have an \"a\" followed by 2 or 3 \"b\"\n"
     ]
    }
   ],
   "source": [
    "import re\n",
    "\n",
    "def text_match(text):\n",
    "    \n",
    "        patterns = 'ab{3}?'\n",
    "        \n",
    "        if re.search(patterns,  text):\n",
    "            \n",
    "                return '\\n\"%s\" has an \"a\" followed by 2 or 3 \"b\"'%text\n",
    "            \n",
    "        else:\n",
    "            \n",
    "                return '\\n\"%s\" does not have an \"a\" followed by 2 or 3 \"b\"'%text\n",
    "            \n",
    "str6 = input('Enter a string that has an \"a\" followed by 2 or 3 \"b\"')\n",
    "\n",
    "\n",
    "print(text_match(str6))"
   ]
  },
  {
   "cell_type": "code",
   "execution_count": null,
   "id": "b70749d1",
   "metadata": {},
   "outputs": [],
   "source": []
  },
  {
   "cell_type": "markdown",
   "id": "d254fff4",
   "metadata": {},
   "source": [
    "Question 7- Write a Python program that matches a string that has an 'a' followed by anything, ending in 'b'."
   ]
  },
  {
   "cell_type": "code",
   "execution_count": 11,
   "id": "b0f128c5",
   "metadata": {},
   "outputs": [
    {
     "name": "stdout",
     "output_type": "stream",
     "text": [
      "Enter a string that has an \"a\" followed anything, ending in \"b\"a\n",
      "\n",
      "\"a\" does not have an \"a\" followed anything, ending in \"b\"\n"
     ]
    }
   ],
   "source": [
    "import re\n",
    "\n",
    "def text_match(text):\n",
    "    \n",
    "        patterns = 'a.*?b$'\n",
    "        \n",
    "        if re.search(patterns,  text):\n",
    "            \n",
    "                return '\\n\"%s\" has an \"a\" followed by anything, ending in \"b\"'%text\n",
    "            \n",
    "        else:\n",
    "            \n",
    "                return '\\n\"%s\" does not have an \"a\" followed anything, ending in \"b\"'%text\n",
    "            \n",
    "str7 = input('Enter a string that has an \"a\" followed anything, ending in \"b\"')\n",
    "\n",
    "\n",
    "print(text_match(str7))"
   ]
  },
  {
   "cell_type": "code",
   "execution_count": null,
   "id": "cb8ddabb",
   "metadata": {},
   "outputs": [],
   "source": []
  },
  {
   "cell_type": "markdown",
   "id": "5e38118d",
   "metadata": {},
   "source": [
    "Question 8- Write a RegEx pattern in python program that matches a word at the beginning of a string."
   ]
  },
  {
   "cell_type": "code",
   "execution_count": 12,
   "id": "d0ab9247",
   "metadata": {},
   "outputs": [
    {
     "name": "stdout",
     "output_type": "stream",
     "text": [
      "Enter a string that has a word at the beginning of the string kjnknfksnf\n",
      "\n",
      "\" kjnknfksnf\" does not have a word at the beginning of the string\n"
     ]
    }
   ],
   "source": [
    "import re\n",
    "\n",
    "def text_match(text):\n",
    "    \n",
    "        patterns = '^\\w+'\n",
    "        \n",
    "        if re.search(patterns,  text):\n",
    "            \n",
    "                return '\\n\"%s\" has a word at the beginning of the string'%text\n",
    "            \n",
    "        else:\n",
    "            \n",
    "                return '\\n\"%s\" does not have a word at the beginning of the string'%text\n",
    "            \n",
    "str8 = input('Enter a string that has a word at the beginning of the string')\n",
    "\n",
    "\n",
    "print(text_match(str8))"
   ]
  },
  {
   "cell_type": "code",
   "execution_count": null,
   "id": "e73f178d",
   "metadata": {},
   "outputs": [],
   "source": []
  },
  {
   "cell_type": "markdown",
   "id": "a77212b3",
   "metadata": {},
   "source": [
    "Question 9- Write a RegEx pattern in python program that matches a word at the end of a string."
   ]
  },
  {
   "cell_type": "code",
   "execution_count": 15,
   "id": "2eea3a35",
   "metadata": {},
   "outputs": [
    {
     "name": "stdout",
     "output_type": "stream",
     "text": [
      "Enter a string that has a word at the end of the stringsjjjh2\n",
      "\n",
      "\"sjjjh2\" has a word at the end of the string\n"
     ]
    }
   ],
   "source": [
    "import re\n",
    "\n",
    "def text_match(text):\n",
    "    \n",
    "        patterns = '\\w+\\S*$'\n",
    "        \n",
    "        if re.search(patterns,  text):\n",
    "            \n",
    "                return '\\n\"%s\" has a word at the end of the string'%text\n",
    "            \n",
    "        else:\n",
    "            \n",
    "                return '\\n\"%s\" does not have a word at the end of the string'%text\n",
    "            \n",
    "str9 = input('Enter a string that has a word at the end of the string')\n",
    "\n",
    "\n",
    "print(text_match(str9))"
   ]
  },
  {
   "cell_type": "code",
   "execution_count": null,
   "id": "ba275b41",
   "metadata": {},
   "outputs": [],
   "source": []
  },
  {
   "cell_type": "markdown",
   "id": "7d24df9b",
   "metadata": {},
   "source": [
    "Question 10- Write a RegEx pattern in python program to find all words that are 4 digits long in a string."
   ]
  },
  {
   "cell_type": "markdown",
   "id": "9fc87aba",
   "metadata": {},
   "source": [
    "Sample text- '01 0132 231875 1458 301 2725.'"
   ]
  },
  {
   "cell_type": "markdown",
   "id": "fbe77afa",
   "metadata": {},
   "source": [
    "Expected output- ['0132', '1458', '2725']"
   ]
  },
  {
   "cell_type": "code",
   "execution_count": 20,
   "id": "8dd7f5ad",
   "metadata": {},
   "outputs": [
    {
     "name": "stdout",
     "output_type": "stream",
     "text": [
      "Finding all words that are 4 digits long in \"01 0132 231875 1458 301 2725.\"\n",
      "\n",
      "['0132', '1458', '2725']\n"
     ]
    }
   ],
   "source": [
    "import re\n",
    "\n",
    "text10 = '01 0132 231875 1458 301 2725.'\n",
    "\n",
    "print('Finding all words that are 4 digits long in \"%s\"\\n'%text10)\n",
    "\n",
    "print(re.findall(r\"\\b\\w{4,4}\\b\", text10))"
   ]
  }
 ],
 "metadata": {
  "kernelspec": {
   "display_name": "Python 3 (ipykernel)",
   "language": "python",
   "name": "python3"
  },
  "language_info": {
   "codemirror_mode": {
    "name": "ipython",
    "version": 3
   },
   "file_extension": ".py",
   "mimetype": "text/x-python",
   "name": "python",
   "nbconvert_exporter": "python",
   "pygments_lexer": "ipython3",
   "version": "3.10.9"
  }
 },
 "nbformat": 4,
 "nbformat_minor": 5
}
